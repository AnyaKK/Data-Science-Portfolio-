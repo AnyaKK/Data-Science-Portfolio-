{
 "cells": [
  {
   "cell_type": "code",
   "execution_count": 1,
   "id": "ab209bc4",
   "metadata": {},
   "outputs": [
    {
     "name": "stdout",
     "output_type": "stream",
     "text": [
      "First argument : Hello\n",
      "Next argument through *argv : Welcome\n",
      "Next argument through *argv : to\n",
      "Next argument through *argv : Coursera\n"
     ]
    }
   ],
   "source": [
    "def myFun(arg1, *argv):\n",
    "    print (\"First argument :\", arg1)\n",
    "    for arg in argv:\n",
    "        print(\"Next argument through *argv :\", arg)\n",
    " \n",
    "myFun('Hello', 'Welcome', 'to', 'Coursera')"
   ]
  },
  {
   "cell_type": "code",
   "execution_count": 2,
   "id": "f95158c5",
   "metadata": {},
   "outputs": [
    {
     "name": "stdout",
     "output_type": "stream",
     "text": [
      "first == Start\n",
      "mid == Mid\n",
      "last == End\n"
     ]
    }
   ],
   "source": [
    "def myFun(**kwargs):\n",
    "    for key, value in kwargs.items():\n",
    "        print (\"%s == %s\" %(key, value))\n",
    "myFun(first ='Start', mid ='Mid', last='End')"
   ]
  },
  {
   "cell_type": "code",
   "execution_count": 3,
   "id": "25b7e08d",
   "metadata": {},
   "outputs": [
    {
     "name": "stdout",
     "output_type": "stream",
     "text": [
      "arg1: Geeks\n",
      "arg2: for\n",
      "arg3: Geeks\n",
      "arg1: Start\n",
      "arg2: Mid\n",
      "arg3: End\n"
     ]
    }
   ],
   "source": [
    "def myFun(arg1, arg2, arg3):\n",
    "    print(\"arg1:\", arg1)\n",
    "    print(\"arg2:\", arg2)\n",
    "    print(\"arg3:\", arg3)\n",
    "args = (\"Geeks\", \"for\", \"Geeks\")\n",
    "myFun(*args)\n",
    " \n",
    "kwargs = {\"arg1\" : \"Start\", \"arg2\" : \"Mid\", \"arg3\" : \"End\"}\n",
    "myFun(**kwargs)"
   ]
  },
  {
   "cell_type": "code",
   "execution_count": 4,
   "id": "52939578",
   "metadata": {},
   "outputs": [
    {
     "name": "stdout",
     "output_type": "stream",
     "text": [
      "('sun', 'mon', 'tue', 'wed', 'thu', 'fri', 'sat')\n"
     ]
    }
   ],
   "source": [
    "weekdays = ['sun','mon','tue','wed','thu','fri','sat']\n",
    "listAsTuple = tuple(weekdays)\n",
    "print(listAsTuple)"
   ]
  },
  {
   "cell_type": "code",
   "execution_count": 13,
   "id": "d1abaf28",
   "metadata": {},
   "outputs": [
    {
     "name": "stdout",
     "output_type": "stream",
     "text": [
      "Enter any number: 21\n",
      "The number is not a Perfect number!\n",
      "The number is not a Perfect number!\n",
      "The number is not a Perfect number!\n",
      "The number is not a Perfect number!\n",
      "The number is not a Perfect number!\n",
      "The number is not a Perfect number!\n",
      "The number is not a Perfect number!\n",
      "The number is not a Perfect number!\n",
      "The number is not a Perfect number!\n",
      "The number is not a Perfect number!\n",
      "The number is not a Perfect number!\n",
      "The number is not a Perfect number!\n",
      "The number is not a Perfect number!\n",
      "The number is not a Perfect number!\n",
      "The number is not a Perfect number!\n",
      "The number is not a Perfect number!\n",
      "The number is not a Perfect number!\n",
      "The number is not a Perfect number!\n",
      "The number is not a Perfect number!\n",
      "The number is not a Perfect number!\n"
     ]
    }
   ],
   "source": [
    "n = int(input(\"Enter any number: \"))\n",
    "sum1 = 0\n",
    "for i in range(1, n):\n",
    "    if(n % i == 0):\n",
    "          sum1 = sum1 + i\n",
    "    if (sum1 == n):\n",
    "         print(\"The number is a Perfect number!\")    \n",
    "            \n",
    "    else:\n",
    "        print(\"The number is not a Perfect number!\")"
   ]
  },
  {
   "cell_type": "code",
   "execution_count": null,
   "id": "9a5ffb07",
   "metadata": {},
   "outputs": [],
   "source": []
  },
  {
   "cell_type": "code",
   "execution_count": null,
   "id": "9198a73f",
   "metadata": {},
   "outputs": [],
   "source": []
  }
 ],
 "metadata": {
  "kernelspec": {
   "display_name": "Python 3 (ipykernel)",
   "language": "python",
   "name": "python3"
  },
  "language_info": {
   "codemirror_mode": {
    "name": "ipython",
    "version": 3
   },
   "file_extension": ".py",
   "mimetype": "text/x-python",
   "name": "python",
   "nbconvert_exporter": "python",
   "pygments_lexer": "ipython3",
   "version": "3.10.4"
  }
 },
 "nbformat": 4,
 "nbformat_minor": 5
}
